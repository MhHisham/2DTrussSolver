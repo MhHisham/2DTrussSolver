{
 "cells": [
  {
   "attachments": {},
   "cell_type": "markdown",
   "id": "a3aac5b4",
   "metadata": {},
   "source": [
    "# Muhammad Hisham AL Hanoun\n"
   ]
  },
  {
   "attachments": {},
   "cell_type": "markdown",
   "id": "bd680f2a",
   "metadata": {},
   "source": [
    " ----------------------------------------------------------------------------------------------------------\n",
    " ----------------------------------------------------------------------------------------------------------\n",
    " ----------------------------------------------------------------------------------------------------------\n",
    " ----------------------------------------------------------------------------------------------------------"
   ]
  },
  {
   "attachments": {},
   "cell_type": "markdown",
   "id": "49a4d7fc",
   "metadata": {
    "hide_input": false
   },
   "source": [
    "# Generalized 2D TrussSolver\n",
    "<img src=\"2DTrusstobeSolved_01.jpg\"> "
   ]
  },
  {
   "attachments": {},
   "cell_type": "markdown",
   "id": "9175cd08",
   "metadata": {
    "hide_input": true
   },
   "source": [
    "# Required Libraries"
   ]
  },
  {
   "cell_type": "code",
   "execution_count": null,
   "id": "fbd6025a",
   "metadata": {
    "hide_input": false
   },
   "outputs": [],
   "source": [
    "# Import Required Libraries\n",
    "import numpy as np \n",
    "import copy\n",
    "from numpy.linalg import norm\n",
    "import matplotlib.pyplot as plt\n"
   ]
  },
  {
   "attachments": {},
   "cell_type": "markdown",
   "id": "fc385e37",
   "metadata": {},
   "source": [
    "# 2D Truss Construction"
   ]
  },
  {
   "attachments": {},
   "cell_type": "markdown",
   "id": "c9c8fb46",
   "metadata": {
    "hide_input": true
   },
   "source": [
    "## Input Data "
   ]
  },
  {
   "cell_type": "code",
   "execution_count": null,
   "id": "9960e9c5",
   "metadata": {
    "hide_input": false
   },
   "outputs": [],
   "source": [
    "# ================================= Start of Model Defention ================================ #\n",
    "\n",
    "# Define the Coordinate System\n",
    "x_axis = np.array([1,0])\n",
    "y_axis = np.array([0,1])\n",
    "\n",
    "# Define the model ( m )\n",
    "nodes               = { 1:[0.0,6.0], 2:[0.0,0.0], 3:[4.0,3.0]}\n",
    "\n",
    "nodesR              = { 1:[0, 5.95], 2:[0, -0.05]}\n",
    "\n",
    "degrees_of_freedom  = { 1:[1,2], 2:[3,4], 3:[5,6]}\n",
    "    \n",
    "elements            = { 1:[1,3], 2:[2,3]}\n",
    "    \n",
    "restrained_dofs     = [ 1, 2, 3, 4]\n",
    "    \n",
    "# Appleid forces ( N )    \n",
    "forces              = { 1:[0,0], 2:[0,0], 3:[0,-100000]}\n",
    "\n",
    "# Material properties -  Steel  (density N/m³, young_modulus N/m²)\n",
    "density             = { 1:78500, 2:78500}\n",
    "    \n",
    "young_modulus        = { 1:200*10**9, 2:200*10**9}\n",
    "\n",
    "# Geometric properties ( m² )\n",
    "area                = { 1:0.005, 2:0.005}\n",
    "\n",
    "ndofs               = 2 * len(nodes)\n",
    "\n",
    "model_settings = {'x_axis':x_axis, 'y_axis':y_axis, 'nodes':nodes, 'degrees_of_freedom':degrees_of_freedom,\n",
    "                 'elements':elements, 'restrained_dofs':restrained_dofs, 'forces':forces, 'ndofs':ndofs,\n",
    "                 'density':density, 'young_modulus':young_modulus, 'area':area}\n",
    "\n",
    "# =================================End of Model Defention================================ #\n",
    "  "
   ]
  },
  {
   "attachments": {},
   "cell_type": "markdown",
   "id": "2a923c63",
   "metadata": {},
   "source": [
    "## Points / Nodes / Elements"
   ]
  },
  {
   "cell_type": "code",
   "execution_count": null,
   "id": "139f6ffc",
   "metadata": {
    "hide_input": false
   },
   "outputs": [],
   "source": [
    "def points(element):\n",
    "    \n",
    "# Identifying the current element nodes    \n",
    "    from_node        = elements[element][0]\n",
    "    to_node          = elements[element][1]\n",
    "\n",
    "# Getting the nodes' coordinates    \n",
    "    from_node_xy     = np.array(nodes[from_node])\n",
    "    to_node_xy       = np.array(nodes[to_node])\n",
    "\n",
    "# Getting the nodes' glbal degree of freedom   \n",
    "    u1              = degrees_of_freedom[from_node][0]\n",
    "    v1              = degrees_of_freedom[from_node][1] \n",
    "    u2              = degrees_of_freedom[to_node][0]\n",
    "    v2              = degrees_of_freedom[to_node][1]        \n",
    "    UV              = np.array([u1 , v1, u2 , v2])\n",
    "    return from_node, to_node, from_node_xy, to_node_xy, UV\n",
    "\n",
    "\n",
    "            \n",
    "def plot_nodes(nodes):\n",
    "# Plotting the nodes of the 2D truss    \n",
    "    x       = [i[0] for i in nodes.values()]\n",
    "    y       = [i[1] for i in nodes.values()]\n",
    "    xR      = [i[0] for i in nodesR.values()]\n",
    "    yR      = [i[1] for i in nodesR.values()]       \n",
    "    return x, y, xR, yR    \n",
    "\n",
    "\n",
    "\n",
    "def draw_element(from_node_xy, to_node_xy):\n",
    "# Plotting the elements of the 2D truss \n",
    "\n",
    "    x1 = from_node_xy[0]\n",
    "    y1 = from_node_xy[1]\n",
    "    x2 = to_node_xy[0]\n",
    "    y2 = to_node_xy[1]    \n",
    "    return x1, y1, x2, y2                \n",
    "\n",
    "   \n"
   ]
  },
  {
   "attachments": {},
   "cell_type": "markdown",
   "id": "aa398e3a",
   "metadata": {
    "hide_input": true
   },
   "source": [
    "## Plotting the Constructed 2D Truss"
   ]
  },
  {
   "cell_type": "code",
   "execution_count": null,
   "id": "7ca0fd52",
   "metadata": {
    "hide_input": false
   },
   "outputs": [],
   "source": [
    "fig  = plt.figure()\n",
    "axes = fig.add_axes([2,2,2,2])\n",
    "axes.set_xlabel('Dimension in X direction (m)')\n",
    "axes.set_ylabel('Dimension in Y direction (m)')\n",
    "axes.set_title('2DTruss Geometry')\n",
    "axes.grid()\n",
    "fig.gca().set_aspect('equal', adjustable='box')\n",
    "\n",
    "for element in elements:\n",
    "    _, _, from_node_xy, to_node_xy, _                    = points(element)\n",
    "    x1, y1, x2, y2                                                      = draw_element(from_node_xy, to_node_xy)\n",
    "    axes.plot([x1,x2],[y1,y2], color= \"b\", linestyle = \"-\", linewidth=2)    \n",
    "\n",
    "\n",
    "x, y, xR, yR = plot_nodes(nodes)\n",
    "offset = 0.05\n",
    "\n",
    "for i, location in enumerate(zip(x,y)):\n",
    "    axes.scatter(x,y,   marker= \"o\", c = \"r\", s = 15, zorder=5)\n",
    "    axes.scatter(xR,yR, marker= \"^\", c = \"lime\", s = 150, zorder=6)\n",
    "    axes.annotate(i+1,(location[0]+offset,location[1]+offset) )\n",
    "   "
   ]
  },
  {
   "attachments": {},
   "cell_type": "markdown",
   "id": "0fe27d84",
   "metadata": {},
   "source": [
    "# 2D Truss Pre processing "
   ]
  },
  {
   "attachments": {},
   "cell_type": "markdown",
   "id": "4b96a4e6",
   "metadata": {},
   "source": [
    "## Stiffness and Force Matrices Formulation"
   ]
  },
  {
   "cell_type": "code",
   "execution_count": null,
   "id": "fd4366ef",
   "metadata": {
    "hide_input": false
   },
   "outputs": [],
   "source": [
    "def direction_cosine(vec1,vec2):\n",
    "    return np.dot(vec1,vec2) / (norm(vec1) * norm(vec2))\n",
    "\n",
    "def rotation_matrix(element_vector, x_axis,y_axis):\n",
    "    \n",
    "    cos_theta = direction_cosine(element_vector, x_axis)\n",
    "    sin_theta = direction_cosine(element_vector, y_axis)\n",
    "    \n",
    "    return np.array([[cos_theta,sin_theta,0,0],[0,0,cos_theta,sin_theta]])\n",
    "\n",
    "\n",
    "def get_matrices(model_settings):\n",
    "    \n",
    "    K = np.zeros([ndofs,ndofs])\n",
    "    \n",
    "    \n",
    "    for element in elements:\n",
    "        \n",
    "        \n",
    "        _, _, from_node_xy, to_node_xy, UV                             = points(element)\n",
    "        element_vector                                                 = to_node_xy - from_node_xy\n",
    "        length                                                         = norm(element_vector)\n",
    "        \n",
    "        A     = model_settings[\"area\"][element]\n",
    "        \n",
    "        E     = model_settings[\"young_modulus\"][element]\n",
    "        \n",
    "        Fk   = E * A / length\n",
    "        \n",
    "        k = np.array([[1,-1],[-1,1]])\n",
    "        \n",
    "        tau = rotation_matrix(element_vector, x_axis, y_axis)\n",
    "        \n",
    "        k_r = tau.T.dot(k).dot(tau)\n",
    "        \n",
    "        index = UV-1\n",
    "        # index for element 1 = [0, 1, 4, 5]\n",
    "        \n",
    "        \n",
    "        B = np.zeros([4,ndofs])\n",
    "        \n",
    "        for i in range(4):\n",
    "            B[i,index[i]] = 1\n",
    "       \n",
    "        K_rG = B.T.dot(k_r).dot(B)\n",
    "        \n",
    "        K = K + (Fk*K_rG)\n",
    "        \n",
    "        Kp = copy.copy(K)\n",
    "        \n",
    "    F = []\n",
    "    for f in forces.values():\n",
    "        F.append(f)\n",
    "        \n",
    "    remove_indices = np.array(model_settings[\"restrained_dofs\"])-1\n",
    "    \n",
    "    K = np.delete(K,remove_indices,0)\n",
    "    K = np.delete(K,remove_indices,1)\n",
    "    \n",
    "    F = np.delete(F,remove_indices)\n",
    "    \n",
    "    return K, F, Kp\n",
    "        \n",
    "K, F, Kp = get_matrices(model_settings)    \n",
    "\n"
   ]
  },
  {
   "attachments": {},
   "cell_type": "markdown",
   "id": "ad89218f",
   "metadata": {
    "hide_input": true
   },
   "source": [
    "# 2D Truss Post-proccessing "
   ]
  },
  {
   "attachments": {},
   "cell_type": "markdown",
   "id": "fa1e4e23",
   "metadata": {},
   "source": [
    "## Solving for the Displacements "
   ]
  },
  {
   "cell_type": "code",
   "execution_count": null,
   "id": "f1a9a39a",
   "metadata": {
    "hide_input": false
   },
   "outputs": [],
   "source": [
    "K, F, Kp = get_matrices(model_settings)\n",
    "\n",
    "# Solving for the nodal displacements\n",
    "\n",
    "disp = np.linalg.inv(K).dot(F) "
   ]
  },
  {
   "attachments": {},
   "cell_type": "markdown",
   "id": "15c307d8",
   "metadata": {},
   "source": [
    "## Solving for Reactions"
   ]
  },
  {
   "cell_type": "code",
   "execution_count": null,
   "id": "93d455a1",
   "metadata": {
    "hide_input": false
   },
   "outputs": [],
   "source": [
    "dispG = np.zeros(ndofs)\n",
    "\n",
    "remove_indices = np.array(model_settings[\"restrained_dofs\"])-1\n",
    "\n",
    "#print(remove_indices)\n",
    "\n",
    "cR = 0\n",
    "\n",
    "for i in np.arange(ndofs):\n",
    "    \n",
    "    if i in remove_indices:\n",
    "        dispG[i] = 0\n",
    "        \n",
    "    else:\n",
    "        dispG[i] = disp[cR]\n",
    "        cR = cR+1\n",
    "        \n",
    "dispG = np.array([dispG]).T\n",
    "\n",
    "FG = np.matmul(Kp,dispG)\n",
    "\n"
   ]
  },
  {
   "attachments": {},
   "cell_type": "markdown",
   "id": "422bc771",
   "metadata": {},
   "source": [
    "## Solving for the Memeber Forces"
   ]
  },
  {
   "cell_type": "code",
   "execution_count": null,
   "id": "74bd6e20",
   "metadata": {
    "hide_input": false
   },
   "outputs": [],
   "source": [
    "element_forces = np.array([])\n",
    "\n",
    "\n",
    "for element in elements:\n",
    "        \n",
    "        _, _, from_node_xy, to_node_xy, UV                             = points(element)\n",
    "        element_vector                                                 = to_node_xy - from_node_xy\n",
    "        tau                                                            = rotation_matrix(element_vector,x_axis,y_axis)\n",
    "        \n",
    "        length                                                         = norm(element_vector)\n",
    "        \n",
    "        index                                                          = UV -1 \n",
    "        \n",
    "        B = np.zeros((4,ndofs))\n",
    "        \n",
    "        for i in range(4):\n",
    "            B[i,index[i]] = 1\n",
    "            \n",
    "        ele_disp   = B.dot(dispG)\n",
    "        ele_disp_r = tau.dot(ele_disp) \n",
    "        \n",
    "        F_axl = (area[element] * young_modulus[element] / length) * (ele_disp_r[1]-ele_disp_r[0])\n",
    "        \n",
    "        element_forces = np.append(element_forces,F_axl)\n",
    "\n"
   ]
  },
  {
   "attachments": {},
   "cell_type": "markdown",
   "id": "e2e8a147",
   "metadata": {},
   "source": [
    "## Plotting the Deformed Shape"
   ]
  },
  {
   "cell_type": "code",
   "execution_count": null,
   "id": "1a9cd9f0",
   "metadata": {
    "hide_input": false
   },
   "outputs": [],
   "source": [
    "fig  = plt.figure()\n",
    "axes = fig.add_axes([2,2,2,2])\n",
    "axes.set_xlabel('Dimension in X direction (m)')\n",
    "axes.set_ylabel('Dimension in Y direction (m)')\n",
    "axes.set_title('2DTruss Geometry')\n",
    "axes.grid()\n",
    "fig.gca().set_aspect('equal', adjustable='box')\n",
    "s_fa = 150\n",
    "\n",
    "for element in elements:\n",
    "    _, _, from_node_xy, to_node_xy, UV                                  = points(element)\n",
    "    x1, y1, x2, y2                                                      = draw_element(from_node_xy, to_node_xy)\n",
    "    \n",
    "    \n",
    "    \n",
    "    \n",
    "    index = UV-1\n",
    "    \n",
    "    ia = index[0]\n",
    "    ib = index[1]\n",
    "    ja = index[2]\n",
    "    jb = index[3]\n",
    "    \n",
    "    \n",
    "    axes.plot([x1,x2],[y1,y2], color= \"b\", linestyle = \"-\", linewidth=2) \n",
    "    axes.plot([x1+dispG[ia]*s_fa,x2+dispG[ja]*s_fa], [y1+dispG[ib]*s_fa,y2+dispG[jb]*s_fa], color= \"y\", linestyle = \"--\", linewidth=1)   \n",
    "\n",
    "\n",
    "x, y, xR, yR = plot_nodes(nodes)\n",
    "offset = 0.05\n",
    "\n",
    "for i, location in enumerate(zip(x,y)):\n",
    "    axes.scatter(x,y,   marker= \"o\", c = \"r\", s = 15, zorder=5)\n",
    "    axes.scatter(xR,yR, marker= \"^\", c = \"lime\", s = 150, zorder=6)\n",
    "    axes.annotate(i+1,(location[0]+offset,location[1]+offset) )"
   ]
  },
  {
   "attachments": {},
   "cell_type": "markdown",
   "id": "a246989e",
   "metadata": {},
   "source": [
    "# 2D Truss Processing Summary"
   ]
  },
  {
   "cell_type": "code",
   "execution_count": null,
   "id": "96f0c6ed",
   "metadata": {
    "hide_input": false
   },
   "outputs": [],
   "source": [
    "print(\"Nodal Displacements\")\n",
    "\n",
    "for i, node in enumerate(nodes):\n",
    "    \n",
    "    \n",
    "    ix = 2*(i+1)-2\n",
    "    iy = 2*(i+1)-1\n",
    "    \n",
    "    ux = dispG[ix,0]\n",
    "    uy = dispG[iy,0]\n",
    "    \n",
    "    print( f\"Node{i+1} , Ux = {round(ux,5)*1000} mm ,Uy = {round(uy,5)*1000} mm\")\n",
    "    \n",
    "    \n",
    "print(\"------------------------------------------------------------------------------------------\")\n",
    "\n",
    "\n",
    "print(\"Reactions\")\n",
    "\n",
    "for i in range(len(remove_indices)):\n",
    "    \n",
    "    index = remove_indices[i]\n",
    "    Force = FG[index][0]\n",
    "    \n",
    "    print(f\"reaction at DoF {i+1} is {round((Force/1000),2)} kN\")\n",
    "    \n",
    "    \n",
    "print(\"------------------------------------------------------------------------------------------\")\n",
    "\n",
    "print(\"Element Forces ( + is Tension , - is Compression )\")    \n",
    "\n",
    "for n, ele in enumerate(elements):\n",
    "    ele_num = n+1\n",
    "    node_i=elements[ele][0]\n",
    "    node_j=elements[ele][1]\n",
    "    Faxl=round(element_forces[n]/1000,1)\n",
    "    \n",
    "    \n",
    "    print(f\"Force in element {ele_num} (nodes {node_i} to {node_j}) is: {Faxl} kN\")\n",
    "\n"
   ]
  }
 ],
 "metadata": {
  "kernelspec": {
   "display_name": "Python 3",
   "language": "python",
   "name": "python3"
  },
  "language_info": {
   "codemirror_mode": {
    "name": "ipython",
    "version": 3
   },
   "file_extension": ".py",
   "mimetype": "text/x-python",
   "name": "python",
   "nbconvert_exporter": "python",
   "pygments_lexer": "ipython3",
   "version": "3.10.6"
  }
 },
 "nbformat": 4,
 "nbformat_minor": 5
}
